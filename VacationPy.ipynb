{
 "cells": [
  {
   "cell_type": "code",
   "execution_count": 1,
   "metadata": {},
   "outputs": [],
   "source": [
    "# Import the dependencies.\n",
    "import pandas as pd\n",
    "import gmaps\n",
    "import requests\n",
    "# Import the API key.\n",
    "from config import g_key"
   ]
  },
  {
   "cell_type": "code",
   "execution_count": 2,
   "metadata": {},
   "outputs": [
    {
     "data": {
      "text/html": [
       "<div>\n",
       "<style scoped>\n",
       "    .dataframe tbody tr th:only-of-type {\n",
       "        vertical-align: middle;\n",
       "    }\n",
       "\n",
       "    .dataframe tbody tr th {\n",
       "        vertical-align: top;\n",
       "    }\n",
       "\n",
       "    .dataframe thead th {\n",
       "        text-align: right;\n",
       "    }\n",
       "</style>\n",
       "<table border=\"1\" class=\"dataframe\">\n",
       "  <thead>\n",
       "    <tr style=\"text-align: right;\">\n",
       "      <th></th>\n",
       "      <th>City_ID</th>\n",
       "      <th>City</th>\n",
       "      <th>Country</th>\n",
       "      <th>Date</th>\n",
       "      <th>Lat</th>\n",
       "      <th>Lng</th>\n",
       "      <th>Max Temp</th>\n",
       "      <th>Humidity</th>\n",
       "      <th>Cloudiness</th>\n",
       "      <th>Wind Speed</th>\n",
       "    </tr>\n",
       "  </thead>\n",
       "  <tbody>\n",
       "    <tr>\n",
       "      <th>0</th>\n",
       "      <td>0</td>\n",
       "      <td>Ust-Ilimsk</td>\n",
       "      <td>RU</td>\n",
       "      <td>2020-10-25 16:29:56</td>\n",
       "      <td>58.00</td>\n",
       "      <td>102.66</td>\n",
       "      <td>24.71</td>\n",
       "      <td>95</td>\n",
       "      <td>78</td>\n",
       "      <td>5.50</td>\n",
       "    </tr>\n",
       "    <tr>\n",
       "      <th>1</th>\n",
       "      <td>1</td>\n",
       "      <td>Ushuaia</td>\n",
       "      <td>AR</td>\n",
       "      <td>2020-10-25 16:20:20</td>\n",
       "      <td>-54.80</td>\n",
       "      <td>-68.30</td>\n",
       "      <td>48.20</td>\n",
       "      <td>57</td>\n",
       "      <td>40</td>\n",
       "      <td>5.82</td>\n",
       "    </tr>\n",
       "    <tr>\n",
       "      <th>2</th>\n",
       "      <td>2</td>\n",
       "      <td>Yellowknife</td>\n",
       "      <td>CA</td>\n",
       "      <td>2020-10-25 16:22:23</td>\n",
       "      <td>62.46</td>\n",
       "      <td>-114.35</td>\n",
       "      <td>28.40</td>\n",
       "      <td>86</td>\n",
       "      <td>75</td>\n",
       "      <td>8.05</td>\n",
       "    </tr>\n",
       "    <tr>\n",
       "      <th>3</th>\n",
       "      <td>3</td>\n",
       "      <td>Puerto Ayora</td>\n",
       "      <td>EC</td>\n",
       "      <td>2020-10-25 16:22:15</td>\n",
       "      <td>-0.74</td>\n",
       "      <td>-90.35</td>\n",
       "      <td>73.40</td>\n",
       "      <td>78</td>\n",
       "      <td>75</td>\n",
       "      <td>19.46</td>\n",
       "    </tr>\n",
       "    <tr>\n",
       "      <th>4</th>\n",
       "      <td>4</td>\n",
       "      <td>Esperance</td>\n",
       "      <td>AU</td>\n",
       "      <td>2020-10-25 16:22:40</td>\n",
       "      <td>-33.87</td>\n",
       "      <td>121.90</td>\n",
       "      <td>53.60</td>\n",
       "      <td>76</td>\n",
       "      <td>0</td>\n",
       "      <td>13.87</td>\n",
       "    </tr>\n",
       "  </tbody>\n",
       "</table>\n",
       "</div>"
      ],
      "text/plain": [
       "   City_ID          City Country                 Date    Lat     Lng  \\\n",
       "0        0    Ust-Ilimsk      RU  2020-10-25 16:29:56  58.00  102.66   \n",
       "1        1       Ushuaia      AR  2020-10-25 16:20:20 -54.80  -68.30   \n",
       "2        2   Yellowknife      CA  2020-10-25 16:22:23  62.46 -114.35   \n",
       "3        3  Puerto Ayora      EC  2020-10-25 16:22:15  -0.74  -90.35   \n",
       "4        4     Esperance      AU  2020-10-25 16:22:40 -33.87  121.90   \n",
       "\n",
       "   Max Temp  Humidity  Cloudiness  Wind Speed  \n",
       "0     24.71        95          78        5.50  \n",
       "1     48.20        57          40        5.82  \n",
       "2     28.40        86          75        8.05  \n",
       "3     73.40        78          75       19.46  \n",
       "4     53.60        76           0       13.87  "
      ]
     },
     "execution_count": 2,
     "metadata": {},
     "output_type": "execute_result"
    }
   ],
   "source": [
    "# Store the CSV you saved created in part one into a DataFrame.\n",
    "city_data_df = pd.read_csv(\"weather_data/cities.csv\")\n",
    "city_data_df.head()"
   ]
  },
  {
   "cell_type": "code",
   "execution_count": 3,
   "metadata": {},
   "outputs": [
    {
     "data": {
      "text/plain": [
       "City_ID         int64\n",
       "City           object\n",
       "Country        object\n",
       "Date           object\n",
       "Lat           float64\n",
       "Lng           float64\n",
       "Max Temp      float64\n",
       "Humidity        int64\n",
       "Cloudiness      int64\n",
       "Wind Speed    float64\n",
       "dtype: object"
      ]
     },
     "execution_count": 3,
     "metadata": {},
     "output_type": "execute_result"
    }
   ],
   "source": [
    "city_data_df.dtypes"
   ]
  },
  {
   "cell_type": "code",
   "execution_count": 4,
   "metadata": {},
   "outputs": [
    {
     "name": "stdout",
     "output_type": "stream",
     "text": [
      "Requirement already satisfied: gmaps in c:\\users\\asosn\\anaconda3\\envs\\pythondata\\lib\\site-packages (0.9.0)\n",
      "Requirement already satisfied: ipython>=5.3.0 in c:\\users\\asosn\\anaconda3\\envs\\pythondata\\lib\\site-packages (from gmaps) (7.16.1)\n",
      "Requirement already satisfied: six in c:\\users\\asosn\\appdata\\roaming\\python\\python37\\site-packages (from gmaps) (1.15.0)\n",
      "Requirement already satisfied: geojson>=2.0.0 in c:\\users\\asosn\\anaconda3\\envs\\pythondata\\lib\\site-packages (from gmaps) (2.5.0)\n",
      "Requirement already satisfied: traitlets>=4.3.0 in c:\\users\\asosn\\anaconda3\\envs\\pythondata\\lib\\site-packages (from gmaps) (4.3.3)\n",
      "Requirement already satisfied: ipywidgets>=7.0.0 in c:\\users\\asosn\\anaconda3\\envs\\pythondata\\lib\\site-packages (from gmaps) (7.5.1)\n",
      "Requirement already satisfied: backcall in c:\\users\\asosn\\anaconda3\\envs\\pythondata\\lib\\site-packages (from ipython>=5.3.0->gmaps) (0.2.0)\n",
      "Requirement already satisfied: pickleshare in c:\\users\\asosn\\anaconda3\\envs\\pythondata\\lib\\site-packages (from ipython>=5.3.0->gmaps) (0.7.5)\n",
      "Requirement already satisfied: setuptools>=18.5 in c:\\users\\asosn\\anaconda3\\envs\\pythondata\\lib\\site-packages (from ipython>=5.3.0->gmaps) (49.2.0.post20200714)\n",
      "Requirement already satisfied: colorama; sys_platform == \"win32\" in c:\\users\\asosn\\appdata\\roaming\\python\\python37\\site-packages (from ipython>=5.3.0->gmaps) (0.4.3)\n",
      "Requirement already satisfied: jedi>=0.10 in c:\\users\\asosn\\anaconda3\\envs\\pythondata\\lib\\site-packages (from ipython>=5.3.0->gmaps) (0.17.1)\n",
      "Requirement already satisfied: pygments in c:\\users\\asosn\\anaconda3\\envs\\pythondata\\lib\\site-packages (from ipython>=5.3.0->gmaps) (2.6.1)\n",
      "Requirement already satisfied: prompt-toolkit!=3.0.0,!=3.0.1,<3.1.0,>=2.0.0 in c:\\users\\asosn\\anaconda3\\envs\\pythondata\\lib\\site-packages (from ipython>=5.3.0->gmaps) (3.0.5)\n",
      "Requirement already satisfied: decorator in c:\\users\\asosn\\anaconda3\\envs\\pythondata\\lib\\site-packages (from ipython>=5.3.0->gmaps) (4.4.2)\n",
      "Requirement already satisfied: ipython-genutils in c:\\users\\asosn\\anaconda3\\envs\\pythondata\\lib\\site-packages (from traitlets>=4.3.0->gmaps) (0.2.0)\n",
      "Requirement already satisfied: nbformat>=4.2.0 in c:\\users\\asosn\\anaconda3\\envs\\pythondata\\lib\\site-packages (from ipywidgets>=7.0.0->gmaps) (5.0.7)\n",
      "Requirement already satisfied: widgetsnbextension~=3.5.0 in c:\\users\\asosn\\anaconda3\\envs\\pythondata\\lib\\site-packages (from ipywidgets>=7.0.0->gmaps) (3.5.1)\n",
      "Requirement already satisfied: ipykernel>=4.5.1 in c:\\users\\asosn\\anaconda3\\envs\\pythondata\\lib\\site-packages (from ipywidgets>=7.0.0->gmaps) (5.3.2)\n",
      "Requirement already satisfied: parso<0.8.0,>=0.7.0 in c:\\users\\asosn\\anaconda3\\envs\\pythondata\\lib\\site-packages (from jedi>=0.10->ipython>=5.3.0->gmaps) (0.7.0)\n",
      "Requirement already satisfied: wcwidth in c:\\users\\asosn\\anaconda3\\envs\\pythondata\\lib\\site-packages (from prompt-toolkit!=3.0.0,!=3.0.1,<3.1.0,>=2.0.0->ipython>=5.3.0->gmaps) (0.2.5)\n",
      "Requirement already satisfied: jupyter-core in c:\\users\\asosn\\anaconda3\\envs\\pythondata\\lib\\site-packages (from nbformat>=4.2.0->ipywidgets>=7.0.0->gmaps) (4.6.3)\n",
      "Requirement already satisfied: jsonschema!=2.5.0,>=2.4 in c:\\users\\asosn\\anaconda3\\envs\\pythondata\\lib\\site-packages (from nbformat>=4.2.0->ipywidgets>=7.0.0->gmaps) (3.2.0)\n",
      "Requirement already satisfied: notebook>=4.4.1 in c:\\users\\asosn\\anaconda3\\envs\\pythondata\\lib\\site-packages (from widgetsnbextension~=3.5.0->ipywidgets>=7.0.0->gmaps) (6.0.3)\n",
      "Requirement already satisfied: jupyter-client in c:\\users\\asosn\\anaconda3\\envs\\pythondata\\lib\\site-packages (from ipykernel>=4.5.1->ipywidgets>=7.0.0->gmaps) (6.1.6)\n",
      "Requirement already satisfied: tornado>=4.2 in c:\\users\\asosn\\anaconda3\\envs\\pythondata\\lib\\site-packages (from ipykernel>=4.5.1->ipywidgets>=7.0.0->gmaps) (6.0.4)\n",
      "Requirement already satisfied: pywin32>=1.0; sys_platform == \"win32\" in c:\\users\\asosn\\anaconda3\\envs\\pythondata\\lib\\site-packages (from jupyter-core->nbformat>=4.2.0->ipywidgets>=7.0.0->gmaps) (227)\n",
      "Requirement already satisfied: attrs>=17.4.0 in c:\\users\\asosn\\anaconda3\\envs\\pythondata\\lib\\site-packages (from jsonschema!=2.5.0,>=2.4->nbformat>=4.2.0->ipywidgets>=7.0.0->gmaps) (19.3.0)\n",
      "Requirement already satisfied: pyrsistent>=0.14.0 in c:\\users\\asosn\\anaconda3\\envs\\pythondata\\lib\\site-packages (from jsonschema!=2.5.0,>=2.4->nbformat>=4.2.0->ipywidgets>=7.0.0->gmaps) (0.16.0)\n",
      "Requirement already satisfied: importlib-metadata; python_version < \"3.8\" in c:\\users\\asosn\\anaconda3\\envs\\pythondata\\lib\\site-packages (from jsonschema!=2.5.0,>=2.4->nbformat>=4.2.0->ipywidgets>=7.0.0->gmaps) (1.7.0)\n",
      "Requirement already satisfied: jinja2 in c:\\users\\asosn\\anaconda3\\envs\\pythondata\\lib\\site-packages (from notebook>=4.4.1->widgetsnbextension~=3.5.0->ipywidgets>=7.0.0->gmaps) (2.11.2)\n",
      "Requirement already satisfied: nbconvert in c:\\users\\asosn\\anaconda3\\envs\\pythondata\\lib\\site-packages (from notebook>=4.4.1->widgetsnbextension~=3.5.0->ipywidgets>=7.0.0->gmaps) (5.6.1)\n",
      "Requirement already satisfied: prometheus-client in c:\\users\\asosn\\anaconda3\\envs\\pythondata\\lib\\site-packages (from notebook>=4.4.1->widgetsnbextension~=3.5.0->ipywidgets>=7.0.0->gmaps) (0.8.0)\n",
      "Requirement already satisfied: terminado>=0.8.1 in c:\\users\\asosn\\anaconda3\\envs\\pythondata\\lib\\site-packages (from notebook>=4.4.1->widgetsnbextension~=3.5.0->ipywidgets>=7.0.0->gmaps) (0.8.3)\n",
      "Requirement already satisfied: Send2Trash in c:\\users\\asosn\\anaconda3\\envs\\pythondata\\lib\\site-packages (from notebook>=4.4.1->widgetsnbextension~=3.5.0->ipywidgets>=7.0.0->gmaps) (1.5.0)\n",
      "Requirement already satisfied: pyzmq>=17 in c:\\users\\asosn\\anaconda3\\envs\\pythondata\\lib\\site-packages (from notebook>=4.4.1->widgetsnbextension~=3.5.0->ipywidgets>=7.0.0->gmaps) (19.0.1)\n",
      "Requirement already satisfied: python-dateutil>=2.1 in c:\\users\\asosn\\anaconda3\\envs\\pythondata\\lib\\site-packages (from jupyter-client->ipykernel>=4.5.1->ipywidgets>=7.0.0->gmaps) (2.8.1)\n",
      "Requirement already satisfied: zipp>=0.5 in c:\\users\\asosn\\anaconda3\\envs\\pythondata\\lib\\site-packages (from importlib-metadata; python_version < \"3.8\"->jsonschema!=2.5.0,>=2.4->nbformat>=4.2.0->ipywidgets>=7.0.0->gmaps) (3.1.0)\n",
      "Requirement already satisfied: MarkupSafe>=0.23 in c:\\users\\asosn\\anaconda3\\envs\\pythondata\\lib\\site-packages (from jinja2->notebook>=4.4.1->widgetsnbextension~=3.5.0->ipywidgets>=7.0.0->gmaps) (1.1.1)\n",
      "Requirement already satisfied: defusedxml in c:\\users\\asosn\\anaconda3\\envs\\pythondata\\lib\\site-packages (from nbconvert->notebook>=4.4.1->widgetsnbextension~=3.5.0->ipywidgets>=7.0.0->gmaps) (0.6.0)\n",
      "Requirement already satisfied: bleach in c:\\users\\asosn\\anaconda3\\envs\\pythondata\\lib\\site-packages (from nbconvert->notebook>=4.4.1->widgetsnbextension~=3.5.0->ipywidgets>=7.0.0->gmaps) (3.1.5)\n",
      "Requirement already satisfied: testpath in c:\\users\\asosn\\anaconda3\\envs\\pythondata\\lib\\site-packages (from nbconvert->notebook>=4.4.1->widgetsnbextension~=3.5.0->ipywidgets>=7.0.0->gmaps) (0.4.4)\n",
      "Requirement already satisfied: mistune<2,>=0.8.1 in c:\\users\\asosn\\anaconda3\\envs\\pythondata\\lib\\site-packages (from nbconvert->notebook>=4.4.1->widgetsnbextension~=3.5.0->ipywidgets>=7.0.0->gmaps) (0.8.4)\n",
      "Requirement already satisfied: pandocfilters>=1.4.1 in c:\\users\\asosn\\anaconda3\\envs\\pythondata\\lib\\site-packages (from nbconvert->notebook>=4.4.1->widgetsnbextension~=3.5.0->ipywidgets>=7.0.0->gmaps) (1.4.2)\n",
      "Requirement already satisfied: entrypoints>=0.2.2 in c:\\users\\asosn\\anaconda3\\envs\\pythondata\\lib\\site-packages (from nbconvert->notebook>=4.4.1->widgetsnbextension~=3.5.0->ipywidgets>=7.0.0->gmaps) (0.3)\n",
      "Requirement already satisfied: packaging in c:\\users\\asosn\\anaconda3\\envs\\pythondata\\lib\\site-packages (from bleach->nbconvert->notebook>=4.4.1->widgetsnbextension~=3.5.0->ipywidgets>=7.0.0->gmaps) (20.4)\n",
      "Requirement already satisfied: webencodings in c:\\users\\asosn\\anaconda3\\envs\\pythondata\\lib\\site-packages (from bleach->nbconvert->notebook>=4.4.1->widgetsnbextension~=3.5.0->ipywidgets>=7.0.0->gmaps) (0.5.1)\n",
      "Requirement already satisfied: pyparsing>=2.0.2 in c:\\users\\asosn\\anaconda3\\envs\\pythondata\\lib\\site-packages (from packaging->bleach->nbconvert->notebook>=4.4.1->widgetsnbextension~=3.5.0->ipywidgets>=7.0.0->gmaps) (2.4.7)\n"
     ]
    }
   ],
   "source": [
    "!pip install gmaps"
   ]
  },
  {
   "cell_type": "code",
   "execution_count": 5,
   "metadata": {},
   "outputs": [],
   "source": [
    "# Configure gmaps to use your Google API key.\n",
    "gmaps.configure(api_key=g_key)"
   ]
  },
  {
   "cell_type": "code",
   "execution_count": 6,
   "metadata": {},
   "outputs": [],
   "source": [
    "# Get the maximum temperature.\n",
    "max_temp = city_data_df[\"Max Temp\"]\n",
    "temps = []\n",
    "for temp in max_temp:\n",
    "    temps.append(max(temp, 0))"
   ]
  },
  {
   "cell_type": "code",
   "execution_count": 7,
   "metadata": {
    "scrolled": true
   },
   "outputs": [
    {
     "data": {
      "application/vnd.jupyter.widget-view+json": {
       "model_id": "276451399b7c4e8c8ec82fd7f3a916d9",
       "version_major": 2,
       "version_minor": 0
      },
      "text/plain": [
       "Figure(layout=FigureLayout(height='420px'))"
      ]
     },
     "metadata": {},
     "output_type": "display_data"
    }
   ],
   "source": [
    "# Heatmap of temperature\n",
    "# Get the latitude and longitude.\n",
    "locations = city_data_df[[\"Lat\", \"Lng\"]]\n",
    "# Get the maximum temperature.\n",
    "max_temp = city_data_df[\"Max Temp\"]\n",
    "# Assign the figure variable.\n",
    "fig = gmaps.figure()\n",
    "# Assign the heatmap variable.\n",
    "heat_layer = gmaps.heatmap_layer(locations, weights=temps, dissipating=False, max_intensity=300, point_radius=4)\n",
    "# Add the heatmap layer.\n",
    "fig.add_layer(heat_layer)\n",
    "# Call the figure to plot the data.\n",
    "fig"
   ]
  },
  {
   "cell_type": "code",
   "execution_count": 11,
   "metadata": {},
   "outputs": [
    {
     "data": {
      "application/vnd.jupyter.widget-view+json": {
       "model_id": "6d46f2da03804b2c87c7a0c6f61d67b3",
       "version_major": 2,
       "version_minor": 0
      },
      "text/plain": [
       "Figure(layout=FigureLayout(height='420px'))"
      ]
     },
     "metadata": {},
     "output_type": "display_data"
    }
   ],
   "source": [
    "fig = gmaps.figure(center=(30.0, 31.0), zoom_level=1.5)\n",
    "fig"
   ]
  },
  {
   "cell_type": "code",
   "execution_count": 12,
   "metadata": {},
   "outputs": [
    {
     "data": {
      "application/vnd.jupyter.widget-view+json": {
       "model_id": "16c849e582724d218f4e94e34119684e",
       "version_major": 2,
       "version_minor": 0
      },
      "text/plain": [
       "Figure(layout=FigureLayout(height='420px'))"
      ]
     },
     "metadata": {},
     "output_type": "display_data"
    }
   ],
   "source": [
    "# Heatmap of percent humidity\n",
    "locations = city_data_df[[\"Lat\", \"Lng\"]]\n",
    "humidity = city_data_df[\"Humidity\"]\n",
    "fig = gmaps.figure(center=(30.0, 31.0), zoom_level=1.5)\n",
    "heat_layer = gmaps.heatmap_layer(locations, weights=humidity, dissipating=False, max_intensity=300, point_radius=4)\n",
    "\n",
    "fig.add_layer(heat_layer)\n",
    "# Call the figure to plot the data.\n",
    "fig"
   ]
  },
  {
   "cell_type": "code",
   "execution_count": 14,
   "metadata": {},
   "outputs": [
    {
     "data": {
      "application/vnd.jupyter.widget-view+json": {
       "model_id": "a5985cc41ee4429c9afff084ed5a6a21",
       "version_major": 2,
       "version_minor": 0
      },
      "text/plain": [
       "Figure(layout=FigureLayout(height='420px'))"
      ]
     },
     "metadata": {},
     "output_type": "display_data"
    }
   ],
   "source": [
    "# Heatmap of percent humidity\n",
    "locations = city_data_df[[\"Lat\", \"Lng\"]]\n",
    "wind = city_data_df[\"Wind Speed\"]\n",
    "fig = gmaps.figure(center=(30.0, 31.0), zoom_level=1.5)\n",
    "heat_layer = gmaps.heatmap_layer(locations, weights=wind, dissipating=False, max_intensity=300, point_radius=4)\n",
    "\n",
    "fig.add_layer(heat_layer)\n",
    "# Call the figure to plot the data.\n",
    "fig"
   ]
  },
  {
   "cell_type": "code",
   "execution_count": 16,
   "metadata": {},
   "outputs": [
    {
     "name": "stdout",
     "output_type": "stream",
     "text": [
      "What is the minimum temperature you would like for your trip? 75\n",
      "What is the maximum temperature you would like for your trip? 90\n"
     ]
    }
   ],
   "source": [
    "# Ask the customer to add a minimum and maximum temperature value.\n",
    "min_temp = float(input(\"What is the minimum temperature you would like for your trip? \"))\n",
    "max_temp = float(input(\"What is the maximum temperature you would like for your trip? \"))"
   ]
  },
  {
   "cell_type": "code",
   "execution_count": 17,
   "metadata": {},
   "outputs": [
    {
     "data": {
      "text/html": [
       "<div>\n",
       "<style scoped>\n",
       "    .dataframe tbody tr th:only-of-type {\n",
       "        vertical-align: middle;\n",
       "    }\n",
       "\n",
       "    .dataframe tbody tr th {\n",
       "        vertical-align: top;\n",
       "    }\n",
       "\n",
       "    .dataframe thead th {\n",
       "        text-align: right;\n",
       "    }\n",
       "</style>\n",
       "<table border=\"1\" class=\"dataframe\">\n",
       "  <thead>\n",
       "    <tr style=\"text-align: right;\">\n",
       "      <th></th>\n",
       "      <th>City_ID</th>\n",
       "      <th>City</th>\n",
       "      <th>Country</th>\n",
       "      <th>Date</th>\n",
       "      <th>Lat</th>\n",
       "      <th>Lng</th>\n",
       "      <th>Max Temp</th>\n",
       "      <th>Humidity</th>\n",
       "      <th>Cloudiness</th>\n",
       "      <th>Wind Speed</th>\n",
       "    </tr>\n",
       "  </thead>\n",
       "  <tbody>\n",
       "    <tr>\n",
       "      <th>5</th>\n",
       "      <td>5</td>\n",
       "      <td>Isoka</td>\n",
       "      <td>ZM</td>\n",
       "      <td>2020-10-25 16:29:56</td>\n",
       "      <td>-10.16</td>\n",
       "      <td>32.63</td>\n",
       "      <td>77.67</td>\n",
       "      <td>28</td>\n",
       "      <td>76</td>\n",
       "      <td>2.53</td>\n",
       "    </tr>\n",
       "    <tr>\n",
       "      <th>9</th>\n",
       "      <td>9</td>\n",
       "      <td>Lumut</td>\n",
       "      <td>MY</td>\n",
       "      <td>2020-10-25 16:29:57</td>\n",
       "      <td>4.23</td>\n",
       "      <td>100.63</td>\n",
       "      <td>80.01</td>\n",
       "      <td>88</td>\n",
       "      <td>20</td>\n",
       "      <td>2.24</td>\n",
       "    </tr>\n",
       "    <tr>\n",
       "      <th>13</th>\n",
       "      <td>13</td>\n",
       "      <td>Guasdualito</td>\n",
       "      <td>VE</td>\n",
       "      <td>2020-10-25 16:29:57</td>\n",
       "      <td>7.24</td>\n",
       "      <td>-70.73</td>\n",
       "      <td>86.77</td>\n",
       "      <td>67</td>\n",
       "      <td>84</td>\n",
       "      <td>5.10</td>\n",
       "    </tr>\n",
       "    <tr>\n",
       "      <th>19</th>\n",
       "      <td>19</td>\n",
       "      <td>Kununurra</td>\n",
       "      <td>AU</td>\n",
       "      <td>2020-10-25 16:29:58</td>\n",
       "      <td>-15.77</td>\n",
       "      <td>128.73</td>\n",
       "      <td>82.40</td>\n",
       "      <td>83</td>\n",
       "      <td>11</td>\n",
       "      <td>8.05</td>\n",
       "    </tr>\n",
       "    <tr>\n",
       "      <th>22</th>\n",
       "      <td>22</td>\n",
       "      <td>Sao Filipe</td>\n",
       "      <td>CV</td>\n",
       "      <td>2020-10-25 16:22:17</td>\n",
       "      <td>14.90</td>\n",
       "      <td>-24.50</td>\n",
       "      <td>83.84</td>\n",
       "      <td>60</td>\n",
       "      <td>91</td>\n",
       "      <td>17.69</td>\n",
       "    </tr>\n",
       "    <tr>\n",
       "      <th>23</th>\n",
       "      <td>23</td>\n",
       "      <td>Rio Grande</td>\n",
       "      <td>BR</td>\n",
       "      <td>2020-10-25 16:29:58</td>\n",
       "      <td>-32.03</td>\n",
       "      <td>-52.10</td>\n",
       "      <td>79.00</td>\n",
       "      <td>71</td>\n",
       "      <td>100</td>\n",
       "      <td>8.01</td>\n",
       "    </tr>\n",
       "    <tr>\n",
       "      <th>24</th>\n",
       "      <td>24</td>\n",
       "      <td>Faanui</td>\n",
       "      <td>PF</td>\n",
       "      <td>2020-10-25 16:22:40</td>\n",
       "      <td>-16.48</td>\n",
       "      <td>-151.75</td>\n",
       "      <td>79.56</td>\n",
       "      <td>69</td>\n",
       "      <td>35</td>\n",
       "      <td>0.92</td>\n",
       "    </tr>\n",
       "    <tr>\n",
       "      <th>41</th>\n",
       "      <td>41</td>\n",
       "      <td>Coahuayana</td>\n",
       "      <td>MX</td>\n",
       "      <td>2020-10-25 16:22:51</td>\n",
       "      <td>18.73</td>\n",
       "      <td>-103.68</td>\n",
       "      <td>78.80</td>\n",
       "      <td>74</td>\n",
       "      <td>20</td>\n",
       "      <td>6.93</td>\n",
       "    </tr>\n",
       "    <tr>\n",
       "      <th>43</th>\n",
       "      <td>43</td>\n",
       "      <td>Arraial Do Cabo</td>\n",
       "      <td>BR</td>\n",
       "      <td>2020-10-25 16:22:53</td>\n",
       "      <td>-22.97</td>\n",
       "      <td>-42.03</td>\n",
       "      <td>77.00</td>\n",
       "      <td>69</td>\n",
       "      <td>40</td>\n",
       "      <td>11.41</td>\n",
       "    </tr>\n",
       "    <tr>\n",
       "      <th>50</th>\n",
       "      <td>50</td>\n",
       "      <td>Kavaratti</td>\n",
       "      <td>IN</td>\n",
       "      <td>2020-10-25 16:30:01</td>\n",
       "      <td>10.57</td>\n",
       "      <td>72.64</td>\n",
       "      <td>82.00</td>\n",
       "      <td>75</td>\n",
       "      <td>52</td>\n",
       "      <td>7.25</td>\n",
       "    </tr>\n",
       "  </tbody>\n",
       "</table>\n",
       "</div>"
      ],
      "text/plain": [
       "    City_ID             City Country                 Date    Lat     Lng  \\\n",
       "5         5            Isoka      ZM  2020-10-25 16:29:56 -10.16   32.63   \n",
       "9         9            Lumut      MY  2020-10-25 16:29:57   4.23  100.63   \n",
       "13       13      Guasdualito      VE  2020-10-25 16:29:57   7.24  -70.73   \n",
       "19       19        Kununurra      AU  2020-10-25 16:29:58 -15.77  128.73   \n",
       "22       22       Sao Filipe      CV  2020-10-25 16:22:17  14.90  -24.50   \n",
       "23       23       Rio Grande      BR  2020-10-25 16:29:58 -32.03  -52.10   \n",
       "24       24           Faanui      PF  2020-10-25 16:22:40 -16.48 -151.75   \n",
       "41       41       Coahuayana      MX  2020-10-25 16:22:51  18.73 -103.68   \n",
       "43       43  Arraial Do Cabo      BR  2020-10-25 16:22:53 -22.97  -42.03   \n",
       "50       50        Kavaratti      IN  2020-10-25 16:30:01  10.57   72.64   \n",
       "\n",
       "    Max Temp  Humidity  Cloudiness  Wind Speed  \n",
       "5      77.67        28          76        2.53  \n",
       "9      80.01        88          20        2.24  \n",
       "13     86.77        67          84        5.10  \n",
       "19     82.40        83          11        8.05  \n",
       "22     83.84        60          91       17.69  \n",
       "23     79.00        71         100        8.01  \n",
       "24     79.56        69          35        0.92  \n",
       "41     78.80        74          20        6.93  \n",
       "43     77.00        69          40       11.41  \n",
       "50     82.00        75          52        7.25  "
      ]
     },
     "execution_count": 17,
     "metadata": {},
     "output_type": "execute_result"
    }
   ],
   "source": [
    "# Filter the dataset to find the cities that fit the criteria.\n",
    "preferred_cities_df = city_data_df.loc[(city_data_df[\"Max Temp\"] <= max_temp) & \\\n",
    "                                       (city_data_df[\"Max Temp\"] >= min_temp)]\n",
    "preferred_cities_df.head(10)"
   ]
  },
  {
   "cell_type": "code",
   "execution_count": 18,
   "metadata": {},
   "outputs": [
    {
     "data": {
      "text/plain": [
       "City_ID       152\n",
       "City          152\n",
       "Country       152\n",
       "Date          152\n",
       "Lat           152\n",
       "Lng           152\n",
       "Max Temp      152\n",
       "Humidity      152\n",
       "Cloudiness    152\n",
       "Wind Speed    152\n",
       "dtype: int64"
      ]
     },
     "execution_count": 18,
     "metadata": {},
     "output_type": "execute_result"
    }
   ],
   "source": [
    "preferred_cities_df.count()"
   ]
  },
  {
   "cell_type": "code",
   "execution_count": 19,
   "metadata": {},
   "outputs": [
    {
     "data": {
      "text/html": [
       "<div>\n",
       "<style scoped>\n",
       "    .dataframe tbody tr th:only-of-type {\n",
       "        vertical-align: middle;\n",
       "    }\n",
       "\n",
       "    .dataframe tbody tr th {\n",
       "        vertical-align: top;\n",
       "    }\n",
       "\n",
       "    .dataframe thead th {\n",
       "        text-align: right;\n",
       "    }\n",
       "</style>\n",
       "<table border=\"1\" class=\"dataframe\">\n",
       "  <thead>\n",
       "    <tr style=\"text-align: right;\">\n",
       "      <th></th>\n",
       "      <th>City</th>\n",
       "      <th>Country</th>\n",
       "      <th>Max Temp</th>\n",
       "      <th>Lat</th>\n",
       "      <th>Lng</th>\n",
       "      <th>Hotel Name</th>\n",
       "    </tr>\n",
       "  </thead>\n",
       "  <tbody>\n",
       "    <tr>\n",
       "      <th>5</th>\n",
       "      <td>Isoka</td>\n",
       "      <td>ZM</td>\n",
       "      <td>77.67</td>\n",
       "      <td>-10.16</td>\n",
       "      <td>32.63</td>\n",
       "      <td></td>\n",
       "    </tr>\n",
       "    <tr>\n",
       "      <th>9</th>\n",
       "      <td>Lumut</td>\n",
       "      <td>MY</td>\n",
       "      <td>80.01</td>\n",
       "      <td>4.23</td>\n",
       "      <td>100.63</td>\n",
       "      <td></td>\n",
       "    </tr>\n",
       "    <tr>\n",
       "      <th>13</th>\n",
       "      <td>Guasdualito</td>\n",
       "      <td>VE</td>\n",
       "      <td>86.77</td>\n",
       "      <td>7.24</td>\n",
       "      <td>-70.73</td>\n",
       "      <td></td>\n",
       "    </tr>\n",
       "    <tr>\n",
       "      <th>19</th>\n",
       "      <td>Kununurra</td>\n",
       "      <td>AU</td>\n",
       "      <td>82.40</td>\n",
       "      <td>-15.77</td>\n",
       "      <td>128.73</td>\n",
       "      <td></td>\n",
       "    </tr>\n",
       "    <tr>\n",
       "      <th>22</th>\n",
       "      <td>Sao Filipe</td>\n",
       "      <td>CV</td>\n",
       "      <td>83.84</td>\n",
       "      <td>14.90</td>\n",
       "      <td>-24.50</td>\n",
       "      <td></td>\n",
       "    </tr>\n",
       "    <tr>\n",
       "      <th>23</th>\n",
       "      <td>Rio Grande</td>\n",
       "      <td>BR</td>\n",
       "      <td>79.00</td>\n",
       "      <td>-32.03</td>\n",
       "      <td>-52.10</td>\n",
       "      <td></td>\n",
       "    </tr>\n",
       "    <tr>\n",
       "      <th>24</th>\n",
       "      <td>Faanui</td>\n",
       "      <td>PF</td>\n",
       "      <td>79.56</td>\n",
       "      <td>-16.48</td>\n",
       "      <td>-151.75</td>\n",
       "      <td></td>\n",
       "    </tr>\n",
       "    <tr>\n",
       "      <th>41</th>\n",
       "      <td>Coahuayana</td>\n",
       "      <td>MX</td>\n",
       "      <td>78.80</td>\n",
       "      <td>18.73</td>\n",
       "      <td>-103.68</td>\n",
       "      <td></td>\n",
       "    </tr>\n",
       "    <tr>\n",
       "      <th>43</th>\n",
       "      <td>Arraial Do Cabo</td>\n",
       "      <td>BR</td>\n",
       "      <td>77.00</td>\n",
       "      <td>-22.97</td>\n",
       "      <td>-42.03</td>\n",
       "      <td></td>\n",
       "    </tr>\n",
       "    <tr>\n",
       "      <th>50</th>\n",
       "      <td>Kavaratti</td>\n",
       "      <td>IN</td>\n",
       "      <td>82.00</td>\n",
       "      <td>10.57</td>\n",
       "      <td>72.64</td>\n",
       "      <td></td>\n",
       "    </tr>\n",
       "  </tbody>\n",
       "</table>\n",
       "</div>"
      ],
      "text/plain": [
       "               City Country  Max Temp    Lat     Lng Hotel Name\n",
       "5             Isoka      ZM     77.67 -10.16   32.63           \n",
       "9             Lumut      MY     80.01   4.23  100.63           \n",
       "13      Guasdualito      VE     86.77   7.24  -70.73           \n",
       "19        Kununurra      AU     82.40 -15.77  128.73           \n",
       "22       Sao Filipe      CV     83.84  14.90  -24.50           \n",
       "23       Rio Grande      BR     79.00 -32.03  -52.10           \n",
       "24           Faanui      PF     79.56 -16.48 -151.75           \n",
       "41       Coahuayana      MX     78.80  18.73 -103.68           \n",
       "43  Arraial Do Cabo      BR     77.00 -22.97  -42.03           \n",
       "50        Kavaratti      IN     82.00  10.57   72.64           "
      ]
     },
     "execution_count": 19,
     "metadata": {},
     "output_type": "execute_result"
    }
   ],
   "source": [
    "# Create DataFrame called hotel_df to store hotel names along with city, country, max temp, and coordinates.\n",
    "hotel_df = preferred_cities_df[[\"City\", \"Country\", \"Max Temp\", \"Lat\", \"Lng\"]].copy()\n",
    "hotel_df[\"Hotel Name\"] = \"\"\n",
    "hotel_df.head(10)"
   ]
  },
  {
   "cell_type": "code",
   "execution_count": 28,
   "metadata": {},
   "outputs": [],
   "source": [
    "# Set parameters to search for a hotel.\n",
    "params = {\n",
    "    \"radius\": 5000,\n",
    "    \"type\": \"lodging\",\n",
    "    \"key\": g_key\n",
    "}"
   ]
  },
  {
   "cell_type": "code",
   "execution_count": 29,
   "metadata": {},
   "outputs": [
    {
     "name": "stdout",
     "output_type": "stream",
     "text": [
      "Hotel not found... skipping.\n",
      "Hotel not found... skipping.\n",
      "Hotel not found... skipping.\n",
      "Hotel not found... skipping.\n",
      "Hotel not found... skipping.\n",
      "Hotel not found... skipping.\n"
     ]
    }
   ],
   "source": [
    "# Iterate through the DataFrame.\n",
    "for index, row in hotel_df.iterrows():\n",
    "    # Get the latitude and longitude.\n",
    "    lat = row[\"Lat\"]\n",
    "    lng = row[\"Lng\"]\n",
    "\n",
    "    # Add the latitude and longitude to location key for the params dictionary.\n",
    "    params[\"location\"] = f\"{lat},{lng}\"\n",
    "\n",
    "    # Use the search term: \"lodging\" and our latitude and longitude.\n",
    "    base_url = \"https://maps.googleapis.com/maps/api/place/nearbysearch/json\"\n",
    "    # Make request and get the JSON data from the search.\n",
    "    hotels = requests.get(base_url, params=params).json()\n",
    "# Grab the first hotel from the results and store the name.\n",
    "    try:\n",
    "        hotel_df.loc[index, \"Hotel Name\"] = hotels[\"results\"][0][\"name\"]\n",
    "    except (IndexError):\n",
    "        print(\"Hotel not found... skipping.\")"
   ]
  },
  {
   "cell_type": "code",
   "execution_count": 31,
   "metadata": {},
   "outputs": [
    {
     "data": {
      "application/vnd.jupyter.widget-view+json": {
       "model_id": "46d894c0e4d24dab9aa16b506f8a69d7",
       "version_major": 2,
       "version_minor": 0
      },
      "text/plain": [
       "Figure(layout=FigureLayout(height='420px'))"
      ]
     },
     "metadata": {},
     "output_type": "display_data"
    }
   ],
   "source": [
    "# Add a heatmap of temperature for the vacation spots and marker for each city.\n",
    "locations = hotel_df[[\"Lat\", \"Lng\"]]\n",
    "max_temp = hotel_df[\"Max Temp\"]\n",
    "fig = gmaps.figure(center=(30.0, 31.0), zoom_level=1.5)\n",
    "heat_layer = gmaps.heatmap_layer(locations, weights=max_temp,\n",
    "             dissipating=False, max_intensity=300, point_radius=4)\n",
    "marker_layer = gmaps.marker_layer(locations)\n",
    "fig.add_layer(heat_layer)\n",
    "fig.add_layer(marker_layer)\n",
    "# Call the figure to plot the data.\n",
    "fig"
   ]
  },
  {
   "cell_type": "code",
   "execution_count": 33,
   "metadata": {},
   "outputs": [],
   "source": [
    "info_box_template = \"\"\"\n",
    "<dl>\n",
    "<dt>Hotel Name</dt><dd>{Hotel Name}</dd>\n",
    "<dt>City</dt><dd>{City}</dd>\n",
    "<dt>Country</dt><dd>{Country}</dd>\n",
    "<dt>Max Temp</dt><dd>{Max Temp} °F</dd>\n",
    "</dl>\n",
    "\"\"\""
   ]
  },
  {
   "cell_type": "code",
   "execution_count": 34,
   "metadata": {},
   "outputs": [],
   "source": [
    "# Store the DataFrame Row.\n",
    "hotel_info = [info_box_template.format(**row) for index, row in hotel_df.iterrows()]"
   ]
  },
  {
   "cell_type": "code",
   "execution_count": 35,
   "metadata": {},
   "outputs": [
    {
     "data": {
      "application/vnd.jupyter.widget-view+json": {
       "model_id": "63af3f86540247a2b0237f20c6c297e6",
       "version_major": 2,
       "version_minor": 0
      },
      "text/plain": [
       "Figure(layout=FigureLayout(height='420px'))"
      ]
     },
     "metadata": {},
     "output_type": "display_data"
    }
   ],
   "source": [
    "# Add a heatmap of temperature for the vacation spots and a pop-up marker for each city.\n",
    "locations = hotel_df[[\"Lat\", \"Lng\"]]\n",
    "max_temp = hotel_df[\"Max Temp\"]\n",
    "fig = gmaps.figure(center=(30.0, 31.0), zoom_level=1.5)\n",
    "heat_layer = gmaps.heatmap_layer(locations, weights=max_temp,dissipating=False,\n",
    "             max_intensity=300, point_radius=4)\n",
    "marker_layer = gmaps.marker_layer(locations, info_box_content=hotel_info)\n",
    "fig.add_layer(heat_layer)\n",
    "fig.add_layer(marker_layer)\n",
    "\n",
    "# Call the figure to plot the data.\n",
    "fig"
   ]
  },
  {
   "cell_type": "code",
   "execution_count": null,
   "metadata": {},
   "outputs": [],
   "source": []
  }
 ],
 "metadata": {
  "kernelspec": {
   "display_name": "PythonData",
   "language": "python",
   "name": "pythondata"
  },
  "language_info": {
   "codemirror_mode": {
    "name": "ipython",
    "version": 3
   },
   "file_extension": ".py",
   "mimetype": "text/x-python",
   "name": "python",
   "nbconvert_exporter": "python",
   "pygments_lexer": "ipython3",
   "version": "3.7.7"
  }
 },
 "nbformat": 4,
 "nbformat_minor": 4
}
